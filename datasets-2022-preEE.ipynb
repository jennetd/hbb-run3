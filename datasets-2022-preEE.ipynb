{
 "cells": [
  {
   "cell_type": "code",
   "execution_count": 1,
   "id": "b9d87283-255e-41b9-b6b6-75295b380188",
   "metadata": {},
   "outputs": [],
   "source": [
    "# Get data file names from stock nano\n",
    "import os\n",
    "import json"
   ]
  },
  {
   "cell_type": "code",
   "execution_count": 2,
   "id": "b90b6992-438a-4a76-85cf-da1962d114e7",
   "metadata": {},
   "outputs": [],
   "source": [
    "datasets = {}"
   ]
  },
  {
   "cell_type": "code",
   "execution_count": 3,
   "id": "ef1f8345-19ad-45a7-a57e-1bd727975e6a",
   "metadata": {},
   "outputs": [],
   "source": [
    "# Jet data\n",
    "datasets['JetHT_Run2022C'] = ['/JetHT/Run2022C-22Sep2023-v1/NANOAOD']\n",
    "datasets['JetMET_Run2022C'] = ['/JetMET/Run2022C-22Sep2023-v1/NANOAOD']\n",
    "datasets['JetMET_Run2022D'] = ['/JetMET/Run2022D-22Sep2023-v1/NANOAOD']"
   ]
  },
  {
   "cell_type": "code",
   "execution_count": 4,
   "id": "355e11a3-79e5-4178-a129-b3e09a25d294",
   "metadata": {},
   "outputs": [],
   "source": [
    "# Muon data\n",
    "datasets['SingleMuon_Run2022C'] = ['/SingleMuon/Run2022C-22Sep2023-v1/NANOAOD']\n",
    "datasets['Muon_Run2022C'] = ['/Muon/Run2022C-22Sep2023-v1/NANOAOD']\n",
    "datasets['Muon_Run2022D'] = ['/Muon/Run2022D-22Sep2023-v1/NANOAOD']"
   ]
  },
  {
   "cell_type": "code",
   "execution_count": 5,
   "id": "c38d9b73-8ec0-4d22-a599-299eae9926c7",
   "metadata": {},
   "outputs": [],
   "source": [
    "# Higgs simulation\n",
    "datasets['GluGlu_Hto2B'] = ['/GluGluHto2B_PT-200_M-125_TuneCP5_13p6TeV_powheg-minlo-pythia8/Run3Summer22NanoAODv12-130X_mcRun3_2022_realistic_v5-v2/NANOAODSIM',\n",
    "                            '/GluGluHto2B_PT-200_M-125_TuneCP5_13p6TeV_powheg-minlo-pythia8/Run3Summer22NanoAODv12-130X_mcRun3_2022_realistic_v5_ext1-v2/NANOAODSIM']\n",
    "datasets['VBF_Hto2B'] = ['/VBFHto2B_M-125_dipoleRecoilOn_TuneCP5_13p6TeV_powheg-pythia8/Run3Summer22NanoAODv12-130X_mcRun3_2022_realistic_v5-v2/NANOAODSIM']\n",
    "datasets['WplusH_Hto2B_Wto2Q'] = ['/WplusH_Hto2B_Wto2Q_M-125_TuneCP5_13p6TeV_powheg-pythia8/Run3Summer22NanoAODv12-130X_mcRun3_2022_realistic_v5-v2/NANOAODSIM',\n",
    "                                  '/WplusH_Hto2B_Wto2Q_M-125_TuneCP5_13p6TeV_powheg-pythia8/Run3Summer22NanoAODv12-130X_mcRun3_2022_realistic_v5_ext1-v2/NANOAODSIM']\n",
    "datasets['WplusH_Hto2B_WtoLNu'] = ['/WplusH_Hto2B_WtoLNu_M-125_TuneCP5_13p6TeV_powheg-pythia8/Run3Summer22NanoAODv12-130X_mcRun3_2022_realistic_v5-v2/NANOAODSIM',\n",
    "                                   '/WplusH_Hto2B_WtoLNu_M-125_TuneCP5_13p6TeV_powheg-pythia8/Run3Summer22NanoAODv12-130X_mcRun3_2022_realistic_v5_ext1-v2/NANOAODSIM']\n",
    "datasets['WminusH_Hto2B_Wto2Q'] = ['/WminusH_Hto2B_Wto2Q_M-125_TuneCP5_13p6TeV_powheg-pythia8/Run3Summer22NanoAODv12-130X_mcRun3_2022_realistic_v5-v2/NANOAODSIM',\n",
    "                                   'WminusH_Hto2B_Wto2Q_M-125_TuneCP5_13p6TeV_powheg-pythia8/Run3Summer22NanoAODv12-130X_mcRun3_2022_realistic_v5_ext1-v2/NANOAODSIM']\n",
    "datasets['WminusH_Hto2B_WtoLNu'] = ['/WminusH_Hto2B_WtoLNu_M-125_TuneCP5_13p6TeV_powheg-pythia8/Run3Summer22NanoAODv12-130X_mcRun3_2022_realistic_v5-v2/NANOAODSIM',\n",
    "                                    '/WminusH_Hto2B_WtoLNu_M-125_TuneCP5_13p6TeV_powheg-pythia8/Run3Summer22NanoAODv12-130X_mcRun3_2022_realistic_v5_ext1-v2/NANOAODSIM']\n",
    "datasets['ZH_Hto2B_Zto2L'] = ['/ZH_Hto2B_Zto2L_M-125_TuneCP5_13p6TeV_powheg-pythia8/Run3Summer22NanoAODv12-130X_mcRun3_2022_realistic_v5-v2/NANOAODSIM',\n",
    "                              '/ZH_Hto2B_Zto2L_M-125_TuneCP5_13p6TeV_powheg-pythia8/Run3Summer22NanoAODv12-130X_mcRun3_2022_realistic_v5_ext1-v2/NANOAODSIM']\n",
    "datasets['ZH_Hto2B_Zto2Nu'] = []\n",
    "datasets['ZH_Hto2B_Zto2Q'] = ['/ZH_Hto2B_Zto2Q_M-125_TuneCP5_13p6TeV_powheg-pythia8/Run3Summer22NanoAODv12-130X_mcRun3_2022_realistic_v5-v2/NANOAODSIM']\n",
    "datasets['ggZH_Hto2B_Zto2L'] = ['/ggZH_Hto2B_Zto2L_M-125_TuneCP5_13p6TeV_powheg-pythia8/Run3Summer22NanoAODv12-130X_mcRun3_2022_realistic_v5-v2/NANOAODSIM']\n",
    "datasets['ggZH_Hto2B_Zto2Nu'] = ['/ggZH_Hto2B_Zto2Nu_M-125_TuneCP5_13p6TeV_powheg-pythia8/Run3Summer22NanoAODv12-130X_mcRun3_2022_realistic_v5-v2/NANOAODSIM']\n",
    "datasets['ggZH_Hto2B_Zto2Q'] = ['/ggZH_Hto2B_Zto2Q_M-125_TuneCP5_13p6TeV_powheg-pythia8/Run3Summer22NanoAODv12-130X_mcRun3_2022_realistic_v5-v2/NANOAODSIM']\n",
    "datasets['ttH_Hto2B'] = ['/ttHto2B_M-125_TuneCP5_13p6TeV_powheg-pythia8/Run3Summer22NanoAODv12-130X_mcRun3_2022_realistic_v5-v2/NANOAODSIM']"
   ]
  },
  {
   "cell_type": "code",
   "execution_count": 6,
   "id": "7ed5eab3-3f3e-4433-bfa8-6f811fc06c76",
   "metadata": {},
   "outputs": [],
   "source": [
    "# QCD simulation\n",
    "datasets['QCD_HT100to200'] = ['/QCD-4Jets_HT-100to200_TuneCP5_13p6TeV_madgraphMLM-pythia8/Run3Summer22NanoAODv12-130X_mcRun3_2022_realistic_v5-v2/NANOAODSIM']\n",
    "datasets['QCD_HT200to400'] = ['/QCD-4Jets_HT-200to400_TuneCP5_13p6TeV_madgraphMLM-pythia8/Run3Summer22NanoAODv12-130X_mcRun3_2022_realistic_v5-v2/NANOAODSIM']\n",
    "datasets['QCD_HT400to600'] = ['/QCD-4Jets_HT-400to600_TuneCP5_13p6TeV_madgraphMLM-pythia8/Run3Summer22NanoAODv12-130X_mcRun3_2022_realistic_v5-v2/NANOAODSIM']\n",
    "datasets['QCD_HT600to800'] = ['/QCD-4Jets_HT-600to800_TuneCP5_13p6TeV_madgraphMLM-pythia8/Run3Summer22NanoAODv12-130X_mcRun3_2022_realistic_v5-v2/NANOAODSIM']\n",
    "datasets['QCD_HT800to1000'] = ['/QCD-4Jets_HT-800to1000_TuneCP5_13p6TeV_madgraphMLM-pythia8/Run3Summer22NanoAODv12-130X_mcRun3_2022_realistic_v5-v2/NANOAODSIM']\n",
    "datasets['QCD_HT1000to1200'] = ['/QCD-4Jets_HT-1000to1200_TuneCP5_13p6TeV_madgraphMLM-pythia8/Run3Summer22NanoAODv12-130X_mcRun3_2022_realistic_v5-v2/NANOAODSIM']\n",
    "datasets['QCD_HT1200to1500'] = ['/QCD-4Jets_HT-1200to1500_TuneCP5_13p6TeV_madgraphMLM-pythia8/Run3Summer22NanoAODv12-130X_mcRun3_2022_realistic_v5-v2/NANOAODSIM']\n",
    "datasets['QCD_HT1500to2000'] = ['/QCD-4Jets_HT-1500to2000_TuneCP5_13p6TeV_madgraphMLM-pythia8/Run3Summer22NanoAODv12-130X_mcRun3_2022_realistic_v5-v2/NANOAODSIM']\n",
    "datasets['QCD_HT2000toInf'] = ['/QCD-4Jets_HT-2000_TuneCP5_13p6TeV_madgraphMLM-pythia8/Run3Summer22NanoAODv12-130X_mcRun3_2022_realistic_v5-v2/NANOAODSIM']"
   ]
  },
  {
   "cell_type": "code",
   "execution_count": 7,
   "id": "43b9cb49-266e-4bd0-9b16-e14e4508c334",
   "metadata": {},
   "outputs": [],
   "source": [
    "# W+jets simulation\n",
    "datasets['Wto2Q_HT200to400'] = ['/Wto2Q-3Jets_HT-200to400_TuneCP5_13p6TeV_madgraphMLM-pythia8/Run3Summer22NanoAODv12-130X_mcRun3_2022_realistic_v5-v2/NANOAODSIM']\n",
    "datasets['Wto2Q_HT400to600'] = ['/Wto2Q-3Jets_HT-400to600_TuneCP5_13p6TeV_madgraphMLM-pythia8/Run3Summer22NanoAODv12-130X_mcRun3_2022_realistic_v5-v2/NANOAODSIM']\n",
    "datasets['Wto2Q_HT600to800'] = ['/Wto2Q-3Jets_HT-600to800_TuneCP5_13p6TeV_madgraphMLM-pythia8/Run3Summer22NanoAODv12-130X_mcRun3_2022_realistic_v5-v2/NANOAODSIM']\n",
    "datasets['Wto2Q_HT800toInf'] = ['/Wto2Q-3Jets_HT-800_TuneCP5_13p6TeV_madgraphMLM-pythia8/Run3Summer22NanoAODv12-130X_mcRun3_2022_realistic_v5-v2/NANOAODSIM']\n",
    "datasets['WtoLNu_1J']= ['/WtoLNu-4Jets_1J_TuneCP5_13p6TeV_madgraphMLM-pythia8/Run3Summer22NanoAODv12-130X_mcRun3_2022_realistic_v5-v1/NANOAODSIM']\n",
    "datasets['WtoLNu_2J']= ['/WtoLNu-4Jets_2J_TuneCP5_13p6TeV_madgraphMLM-pythia8/Run3Summer22NanoAODv12-130X_mcRun3_2022_realistic_v5-v1/NANOAODSIM']\n",
    "datasets['WtoLNu_3J']= ['/WtoLNu-4Jets_3J_TuneCP5_13p6TeV_madgraphMLM-pythia8/Run3Summer22NanoAODv12-130X_mcRun3_2022_realistic_v5-v2/NANOAODSIM']\n",
    "datasets['WtoLNu_4J']= ['/WtoLNu-4Jets_4J_TuneCP5_13p6TeV_madgraphMLM-pythia8/Run3Summer22NanoAODv12-130X_mcRun3_2022_realistic_v5-v2/NANOAODSIM']"
   ]
  },
  {
   "cell_type": "code",
   "execution_count": 8,
   "id": "38b3ce1d-d03b-4bc6-8f68-3982a700d394",
   "metadata": {},
   "outputs": [],
   "source": [
    "# Z+jets simulation\n",
    "datasets['DYJets_Zto2L'] = ['/DYJetsToLL_M-50_TuneCP5_13p6TeV-madgraphMLM-pythia8/Run3Summer22NanoAODv12-130X_mcRun3_2022_realistic_v5-v2/NANOAODSIM']\n",
    "datasets['Zto2Nu_HT100to200'] = ['/Zto2Nu-4Jets_HT-100to200_TuneCP5_13p6TeV_madgraphMLM-pythia8/Run3Summer22NanoAODv12-130X_mcRun3_2022_realistic_v5-v2/NANOAODSIM']\n",
    "datasets['Zto2Nu_HT200to400'] = ['/Zto2Nu-4Jets_HT-200to400_TuneCP5_13p6TeV_madgraphMLM-pythia8/Run3Summer22NanoAODv12-130X_mcRun3_2022_realistic_v5-v2/NANOAODSIM']\n",
    "datasets['Zto2Nu_HT400to800'] = ['/Zto2Nu-4Jets_HT-400to800_TuneCP5_13p6TeV_madgraphMLM-pythia8/Run3Summer22NanoAODv12-130X_mcRun3_2022_realistic_v5-v2/NANOAODSIM']\n",
    "datasets['Zto2Nu_HT800to1500'] = ['/Zto2Nu-4Jets_HT-800to1500_TuneCP5_13p6TeV_madgraphMLM-pythia8/Run3Summer22NanoAODv12-130X_mcRun3_2022_realistic_v5-v2/NANOAODSIM']\n",
    "datasets['Zto2Nu_HT1500to2500'] = ['/Zto2Nu-4Jets_HT-1500to2500_TuneCP5_13p6TeV_madgraphMLM-pythia8/Run3Summer22NanoAODv12-130X_mcRun3_2022_realistic_v5-v2/NANOAODSIM']\n",
    "datasets['Zto2Nu_HT2500toInf'] = ['/Zto2Nu-4Jets_HT-2500_TuneCP5_13p6TeV_madgraphMLM-pythia8/Run3Summer22NanoAODv12-130X_mcRun3_2022_realistic_v5-v2/NANOAODSIM']\n",
    "datasets['Zto2Q_HT200to400'] = ['/Zto2Q-4Jets_HT-200to400_TuneCP5_13p6TeV_madgraphMLM-pythia8/Run3Summer22NanoAODv12-130X_mcRun3_2022_realistic_v5-v2/NANOAODSIM']\n",
    "datasets['Zto2Q_HT400to600'] = ['/Zto2Q-4Jets_HT-400to600_TuneCP5_13p6TeV_madgraphMLM-pythia8/Run3Summer22NanoAODv12-130X_mcRun3_2022_realistic_v5-v2/NANOAODSIM']\n",
    "datasets['Zto2Q_HT600to800'] = ['/Zto2Q-4Jets_HT-600to800_TuneCP5_13p6TeV_madgraphMLM-pythia8/Run3Summer22NanoAODv12-130X_mcRun3_2022_realistic_v5-v2/NANOAODSIM']\n",
    "datasets['Zto2Q_HT800toInf'] = ['/Zto2Q-4Jets_HT-800_TuneCP5_13p6TeV_madgraphMLM-pythia8/Run3Summer22NanoAODv12-130X_mcRun3_2022_realistic_v5-v2/NANOAODSIM']"
   ]
  },
  {
   "cell_type": "code",
   "execution_count": 9,
   "id": "25aea56b-9b06-48fe-8da1-dbfce5c2554b",
   "metadata": {},
   "outputs": [],
   "source": [
    "# Diboson\n",
    "datasets['ZZ'] = ['/ZZ_TuneCP5_13p6TeV_pythia8/Run3Summer22NanoAODv12-130X_mcRun3_2022_realistic_v5-v2/NANOAODSIM']\n",
    "datasets['WW'] = ['/WW_TuneCP5_13p6TeV_pythia8/Run3Summer22NanoAODv12-130X_mcRun3_2022_realistic_v5-v2/NANOAODSIM']\n",
    "datasets['WZ'] = ['/WZ_TuneCP5_13p6TeV_pythia8/Run3Summer22NanoAODv12-130X_mcRun3_2022_realistic_v5-v2/NANOAODSIM']"
   ]
  },
  {
   "cell_type": "code",
   "execution_count": 10,
   "id": "10e31bb2-2619-4f6e-a294-2bb9f491f2d9",
   "metadata": {},
   "outputs": [],
   "source": [
    "# ttbar\n",
    "datasets['TT_fullhad'] = ['/TTto4Q-3Jets_TuneCP5_13p6TeV_madgraphMLM-pythia8/Run3Summer22NanoAODv12-130X_mcRun3_2022_realistic_v5-v2/NANOAODSIM']\n",
    "datasets['TT_semilep_pos'] = ['/TTtoLplusNu2Q-3Jets_TuneCP5_13p6TeV_madgraphMLM-pythia8/Run3Summer22NanoAODv12-130X_mcRun3_2022_realistic_v5-v2/NANOAODSIM']\n",
    "datasets['TT_semilep_neg'] = ['/TTtoLminusNu2Q-3Jets_TuneCP5_13p6TeV_madgraphMLM-pythia8/Run3Summer22NanoAODv12-130X_mcRun3_2022_realistic_v5-v2/NANOAODSIM']\n",
    "datasets['TT_fulllep'] = ['/TTto2L2Nu-3Jets_TuneCP5_13p6TeV_madgraphMLM-pythia8/Run3Summer22NanoAODv12-130X_mcRun3_2022_realistic_v5-v2/NANOAODSIM']"
   ]
  },
  {
   "cell_type": "code",
   "execution_count": 11,
   "id": "7d5b9025-c75e-4a62-9cc8-bf7cf35769a1",
   "metadata": {},
   "outputs": [],
   "source": [
    "# Single top\n",
    "datasets['TWminus_fullhad'] = ['/TWminusto4Q_DS_TuneCP5_13p6TeV_powheg-pythia8/Run3Summer22NanoAODv12-130X_mcRun3_2022_realistic_v5-v2/NANOAODSIM']\n",
    "datasets['TWplus_fullhad'] = ['/TWplusto4Q_DS_TuneCP5_13p6TeV_powheg-pythia8/Run3Summer22NanoAODv12-130X_mcRun3_2022_realistic_v5-v2/NANOAODSIM']\n",
    "datasets['TWminus_fulllep'] = ['/TWminusto2L2Nu_DS_TuneCP5_13p6TeV_powheg-pythia8/Run3Summer22NanoAODv12-130X_mcRun3_2022_realistic_v5-v2/NANOAODSIM']\n",
    "datasets['TWplus_fulllep'] = ['/TWplusto2L2Nu_DS_TuneCP5_13p6TeV_powheg-pythia8/Run3Summer22NanoAODv12-130X_mcRun3_2022_realistic_v5-v2/NANOAODSIM']\n",
    "datasets['TWminus_semilep'] = ['/TWminustoLNu2Q_DS_TuneCP5_13p6TeV_powheg-pythia8/Run3Summer22NanoAODv12-130X_mcRun3_2022_realistic_v5-v2/NANOAODSIM']\n",
    "datasets['TWplus_semilep'] = ['/TWplustoLNu2Q_DS_TuneCP5_13p6TeV_powheg-pythia8/Run3Summer22NanoAODv12-130X_mcRun3_2022_realistic_v5-v2/NANOAODSIM']\n",
    "datasets['TBbar_tchannel'] = ['/TBbarQ_t-channel_4FS_TuneCP5_13p6TeV_powheg-madspin-pythia8/Run3Summer22NanoAODv12-130X_mcRun3_2022_realistic_v5-v2/NANOAODSIM']\n",
    "datasets['TbarB_tchannel'] = ['/TbarBQ_t-channel_4FS_TuneCP5_13p6TeV_powheg-madspin-pythia8/Run3Summer22NanoAODv12-130X_mcRun3_2022_realistic_v5-v2/NANOAODSIM']"
   ]
  },
  {
   "cell_type": "code",
   "execution_count": 12,
   "id": "ed7a05d3-2990-48a0-a17b-bb7d718f7c41",
   "metadata": {},
   "outputs": [],
   "source": [
    "this_file = 'infiles/2022_datasets.json'\n",
    "with open(this_file, 'w') as json_file:\n",
    "    json.dump(datasets, json_file)"
   ]
  },
  {
   "cell_type": "code",
   "execution_count": null,
   "id": "82c46e98-e207-4b64-be29-cec8b20d1f08",
   "metadata": {},
   "outputs": [],
   "source": []
  }
 ],
 "metadata": {
  "kernelspec": {
   "display_name": "Python 3 (ipykernel)",
   "language": "python",
   "name": "python3"
  },
  "language_info": {
   "codemirror_mode": {
    "name": "ipython",
    "version": 3
   },
   "file_extension": ".py",
   "mimetype": "text/x-python",
   "name": "python",
   "nbconvert_exporter": "python",
   "pygments_lexer": "ipython3",
   "version": "3.12.2"
  }
 },
 "nbformat": 4,
 "nbformat_minor": 5
}
