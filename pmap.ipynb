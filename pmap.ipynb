{
 "cells": [
  {
   "cell_type": "code",
   "execution_count": 1,
   "id": "640b6579",
   "metadata": {},
   "outputs": [],
   "source": [
    "import os, sys\n",
    "import json"
   ]
  },
  {
   "cell_type": "code",
   "execution_count": 2,
   "id": "f8ca2080-0039-4c24-a136-ed2e58f94033",
   "metadata": {},
   "outputs": [],
   "source": [
    "pmap = {}\n",
    "\n",
    "pmap['QCD'] = ['QCD_HT100to200',\n",
    "               'QCD_HT200to400',\n",
    "               'QCD_HT400to600',\n",
    "               'QCD_HT600to800',\n",
    "               'QCD_HT800to1000',\n",
    "               'QCD_HT1000to1200',\n",
    "               'QCD_HT1200to1500',\n",
    "               'QCD_HT1500to2000',\n",
    "               'QCD_HT2000toInf']\n",
    "\n",
    "pmap['Wjets'] = ['Wto2Q_HT200to400',\n",
    "                 'Wto2Q_HT400to600',\n",
    "                 'Wto2Q_HT600to800',\n",
    "                 'Wto2Q_HT800toInf',\n",
    "                 'WtoLNu_1J',\n",
    "                 'WtoLNu_2J',\n",
    "                 'WtoLNu_3J',\n",
    "                 'WtoLNu_4J']\n",
    "\n",
    "pmap['Zjets'] = ['DYJets_Zto2L',\n",
    "                 'Zto2Nu_HT100to200',\n",
    "                 'Zto2Nu_HT200to400',\n",
    "                 'Zto2Nu_HT400to800',\n",
    "                 'Zto2Nu_HT800to1500',\n",
    "                 'Zto2Nu_HT1500to2500',\n",
    "                 'Zto2Nu_HT2500toInf',\n",
    "                 'Zto2Q_HT200to400',\n",
    "                 'Zto2Q_HT400to600',\n",
    "                 'Zto2Q_HT600to800',\n",
    "                 'Zto2Q_HT800toInf']\n",
    "\n",
    "pmap['VV'] = ['WW', 'WZ', 'ZZ']\n",
    "\n",
    "pmap['ttbar'] = ['TT_semilep_pos', \n",
    "                 'TT_semilep_neg', \n",
    "                 'TT_fullhad', \n",
    "                 'TT_fulllep']\n",
    "\n",
    "pmap['singlet'] = ['TWminus_fullhad',\n",
    "                   'TWplus_fullhad',\n",
    "                   'TWminus_fulllep',\n",
    "                   'TWplus_fulllep',\n",
    "                   'TWminus_semilep',\n",
    "                   'TWplus_semilep',\n",
    "                   'TBbar_tchannel',\n",
    "                   'TbarB_tchannel']\n",
    "\n",
    "#pmap['EWKZ'] = ['EWKZ_ZToQQ', 'EWKZ_ZToLL', 'EWKZ_ZtoNuNu']\n",
    "#pmap['EWKW'] = ['EWKWminus_WToQQ','EWKWplus_WToQQ', 'EWKWminus_WToLNu', 'EWKWplus_WToLNu']\n",
    "\n",
    "pmap['ggF'] = ['GluGlu_Hto2B']\n",
    "\n",
    "pmap['VBF'] = ['VBF_Hto2B']\n",
    "\n",
    "pmap['WH'] = ['WminusH_Hto2B_Wto2Q',\n",
    "              'WplusH_Hto2B_Wto2Q',\n",
    "              'WminusH_Hto2B_WtoLNu',\n",
    "              'WplusH_Hto2B_WtoLNu']\n",
    "\n",
    "pmap['ZH'] = ['ZH_Hto2B_Zto2Q',\n",
    "              'ZH_Hto2B_Zto2L',\n",
    "              'ZH_Hto2B_Zto2Nu',\n",
    "              'ggZH_Hto2B_Zto2Q',\n",
    "              'ggZH_Hto2B_Zto2L',\n",
    "              'ggZH_Hto2B_Zto2Nu']\n",
    "    \n",
    "pmap['ttH'] = ['ttH_Hto2B']\n",
    "\n",
    "pmap['JetData'] = ['JetHT_Run2022C',\n",
    "                   'JetMET_Run2022C',\n",
    "                   'JetMET_Run2022D',\n",
    "                   'JetMET_Run2022E',\n",
    "                   'JetMET_Run2022F',\n",
    "                   'JetMET_Run2022G',\n",
    "                   'JetMET0_Run2023B',\n",
    "                   'JetMET0_Run2023C',\n",
    "                   'JetMET0_Run2023D',\n",
    "                   'JetMET1_Run2023B',\n",
    "                   'JetMET1_Run2023C',\n",
    "                   'JetMET1_Run2023D']\n",
    "\n",
    "pmap['MuonData'] = ['SingleMuon_Run2022C',\n",
    "                    'Muon_Run2022C',\n",
    "                    'Muon_Run2022D',\n",
    "                    'Muon_Run2022E',\n",
    "                    'Muon_Run2022F',\n",
    "                    'Muon_Run2022G',\n",
    "                    'Muon0_Run2023B',\n",
    "                    'Muon0_Run2023C',\n",
    "                    'Muon0_Run2023D',\n",
    "                    'Muon1_Run2023B',\n",
    "                    'Muon1_Run2023C',\n",
    "                    'Muon1_Run2023D']"
   ]
  },
  {
   "cell_type": "code",
   "execution_count": 3,
   "id": "6a1801ae-e2ce-4f00-89ba-811bc8d5359b",
   "metadata": {},
   "outputs": [
    {
     "name": "stdout",
     "output_type": "stream",
     "text": [
      "Done\n"
     ]
    }
   ],
   "source": [
    "with open('pmap.json', 'w') as outfile:\n",
    "    json.dump(pmap, outfile, indent=4)\n",
    "print(\"Done\")"
   ]
  },
  {
   "cell_type": "code",
   "execution_count": 4,
   "id": "a212f818-17ea-4f56-8c84-c2e99ee92134",
   "metadata": {},
   "outputs": [],
   "source": [
    "def add_prefix(f):\n",
    "    prefix = 'root://cmsxrootd.fnal.gov/'\n",
    "    return prefix + f"
   ]
  },
  {
   "cell_type": "code",
   "execution_count": 5,
   "id": "5727cf44-bd9f-4ab0-bc72-36682e049ca3",
   "metadata": {},
   "outputs": [],
   "source": [
    "def make_infiles(year):\n",
    "    \n",
    "    # Opening JSON file\n",
    "    with open('infiles/'+year+'_datasets.json') as infile:\n",
    "        datasets = json.load(infile)\n",
    "\n",
    "    for p, sets in pmap.items():\n",
    "\n",
    "        infiles = {}\n",
    "        for ds in sets:\n",
    "        \n",
    "            infiles[ds] = []\n",
    "\n",
    "            if ds in datasets.keys():\n",
    "\n",
    "                for s in datasets[ds]:\n",
    "                    query = \"file dataset=\"+s\n",
    "                    #print(query)\n",
    "                    new_files = !dasgoclient --query=\"$query\"\n",
    "                    if len(new_files) == 0:\n",
    "                        print(\"No files found for \" + ds)\n",
    "                    \n",
    "                    infiles[ds] += [add_prefix(f) for f in new_files]\n",
    "            elif \"Run\" not in ds:\n",
    "                print(\"No files found for \" + ds)\n",
    "\n",
    "        json_name = 'infiles/'+year+'/'+year+'_'+p+'.json'\n",
    "        with open(json_name, 'w') as outfile:\n",
    "            json.dump(infiles, outfile, indent=4)\n",
    "        print(\"Wrote \"+ json_name)\n",
    "        \n",
    "    print(\"Done\")"
   ]
  },
  {
   "cell_type": "code",
   "execution_count": 6,
   "id": "78689092-6d01-429d-b124-f7efed7fa28d",
   "metadata": {},
   "outputs": [
    {
     "name": "stdout",
     "output_type": "stream",
     "text": [
      "Wrote infiles/2022EE/2022EE_QCD.json\n",
      "Wrote infiles/2022EE/2022EE_Wjets.json\n",
      "Wrote infiles/2022EE/2022EE_Zjets.json\n",
      "Wrote infiles/2022EE/2022EE_VV.json\n",
      "Wrote infiles/2022EE/2022EE_ttbar.json\n",
      "No files found for TWplus_fullhad\n",
      "No files found for TWplus_fulllep\n",
      "No files found for TWplus_semilep\n",
      "Wrote infiles/2022EE/2022EE_singlet.json\n",
      "Wrote infiles/2022EE/2022EE_ggF.json\n",
      "Wrote infiles/2022EE/2022EE_VBF.json\n",
      "Wrote infiles/2022EE/2022EE_WH.json\n",
      "Wrote infiles/2022EE/2022EE_ZH.json\n",
      "Wrote infiles/2022EE/2022EE_ttH.json\n",
      "Wrote infiles/2022EE/2022EE_JetData.json\n",
      "Wrote infiles/2022EE/2022EE_MuonData.json\n",
      "Done\n"
     ]
    }
   ],
   "source": [
    "make_infiles('2022EE')"
   ]
  },
  {
   "cell_type": "code",
   "execution_count": 7,
   "id": "051f8f99-8def-4e02-a623-1ca711e671f7",
   "metadata": {},
   "outputs": [
    {
     "name": "stdout",
     "output_type": "stream",
     "text": [
      "Wrote infiles/2022/2022_QCD.json\n",
      "Wrote infiles/2022/2022_Wjets.json\n",
      "Wrote infiles/2022/2022_Zjets.json\n",
      "Wrote infiles/2022/2022_VV.json\n",
      "Wrote infiles/2022/2022_ttbar.json\n",
      "No files found for TWplus_fullhad\n",
      "No files found for TWplus_fulllep\n",
      "No files found for TWplus_semilep\n",
      "Wrote infiles/2022/2022_singlet.json\n",
      "Wrote infiles/2022/2022_ggF.json\n",
      "Wrote infiles/2022/2022_VBF.json\n",
      "Wrote infiles/2022/2022_WH.json\n",
      "Wrote infiles/2022/2022_ZH.json\n",
      "Wrote infiles/2022/2022_ttH.json\n",
      "Wrote infiles/2022/2022_JetData.json\n",
      "Wrote infiles/2022/2022_MuonData.json\n",
      "Done\n"
     ]
    }
   ],
   "source": [
    "make_infiles('2022')"
   ]
  },
  {
   "cell_type": "code",
   "execution_count": 8,
   "id": "79ba1636-e6dc-40a0-b304-21002af0303e",
   "metadata": {},
   "outputs": [
    {
     "name": "stdout",
     "output_type": "stream",
     "text": [
      "No files found for QCD_HT400to600\n",
      "No files found for QCD_HT1500to2000\n",
      "Wrote infiles/2023/2023_QCD.json\n",
      "Wrote infiles/2023/2023_Wjets.json\n",
      "No files found for DYJets_Zto2L\n",
      "Wrote infiles/2023/2023_Zjets.json\n",
      "Wrote infiles/2023/2023_VV.json\n",
      "No files found for TT_semilep_pos\n",
      "No files found for TT_semilep_neg\n",
      "No files found for TT_fullhad\n",
      "No files found for TT_fulllep\n",
      "Wrote infiles/2023/2023_ttbar.json\n",
      "No files found for TWplus_fullhad\n",
      "No files found for TWplus_fulllep\n",
      "No files found for TWplus_semilep\n",
      "No files found for TBbar_tchannel\n",
      "No files found for TbarB_tchannel\n",
      "Wrote infiles/2023/2023_singlet.json\n",
      "Wrote infiles/2023/2023_ggF.json\n",
      "No files found for VBF_Hto2B\n",
      "Wrote infiles/2023/2023_VBF.json\n",
      "Wrote infiles/2023/2023_WH.json\n",
      "Wrote infiles/2023/2023_ZH.json\n",
      "Wrote infiles/2023/2023_ttH.json\n",
      "Wrote infiles/2023/2023_JetData.json\n",
      "Wrote infiles/2023/2023_MuonData.json\n",
      "Done\n"
     ]
    }
   ],
   "source": [
    "make_infiles('2023')"
   ]
  },
  {
   "cell_type": "code",
   "execution_count": 9,
   "id": "4ddf9abe-e527-437e-b7f5-03ab430adc89",
   "metadata": {},
   "outputs": [
    {
     "name": "stdout",
     "output_type": "stream",
     "text": [
      "Wrote infiles/2023BPix/2023BPix_QCD.json\n",
      "Wrote infiles/2023BPix/2023BPix_Wjets.json\n",
      "No files found for DYJets_Zto2L\n",
      "Wrote infiles/2023BPix/2023BPix_Zjets.json\n",
      "Wrote infiles/2023BPix/2023BPix_VV.json\n",
      "No files found for TT_semilep_pos\n",
      "No files found for TT_semilep_neg\n",
      "No files found for TT_fullhad\n",
      "No files found for TT_fulllep\n",
      "Wrote infiles/2023BPix/2023BPix_ttbar.json\n",
      "No files found for TWminus_fullhad\n",
      "No files found for TWplus_fullhad\n",
      "No files found for TWminus_fulllep\n",
      "No files found for TWplus_fulllep\n",
      "No files found for TWminus_semilep\n",
      "No files found for TWplus_semilep\n",
      "No files found for TBbar_tchannel\n",
      "No files found for TbarB_tchannel\n",
      "Wrote infiles/2023BPix/2023BPix_singlet.json\n",
      "Wrote infiles/2023BPix/2023BPix_ggF.json\n",
      "No files found for VBF_Hto2B\n",
      "Wrote infiles/2023BPix/2023BPix_VBF.json\n",
      "Wrote infiles/2023BPix/2023BPix_WH.json\n",
      "Wrote infiles/2023BPix/2023BPix_ZH.json\n",
      "Wrote infiles/2023BPix/2023BPix_ttH.json\n",
      "Wrote infiles/2023BPix/2023BPix_JetData.json\n",
      "Wrote infiles/2023BPix/2023BPix_MuonData.json\n",
      "Done\n"
     ]
    }
   ],
   "source": [
    "make_infiles('2023BPix')"
   ]
  },
  {
   "cell_type": "code",
   "execution_count": null,
   "id": "496c142b-e5e8-4431-8b2c-b65e7c8800a2",
   "metadata": {},
   "outputs": [],
   "source": []
  }
 ],
 "metadata": {
  "kernelspec": {
   "display_name": "Python 3 (ipykernel)",
   "language": "python",
   "name": "python3"
  },
  "language_info": {
   "codemirror_mode": {
    "name": "ipython",
    "version": 3
   },
   "file_extension": ".py",
   "mimetype": "text/x-python",
   "name": "python",
   "nbconvert_exporter": "python",
   "pygments_lexer": "ipython3",
   "version": "3.12.2"
  }
 },
 "nbformat": 4,
 "nbformat_minor": 5
}
