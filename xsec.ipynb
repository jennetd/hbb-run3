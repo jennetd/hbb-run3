{
 "cells": [
  {
   "cell_type": "code",
   "execution_count": 1,
   "id": "640b6579",
   "metadata": {},
   "outputs": [],
   "source": [
    "import json\n",
    "from __future__ import annotations"
   ]
  },
  {
   "cell_type": "code",
   "execution_count": 2,
   "id": "7a0206e0-c01d-4e75-98de-0a121be358dc",
   "metadata": {},
   "outputs": [],
   "source": [
    "# Cross Sections for 13.6 TeV\n",
    "# Stolen from Cristina\n",
    "# https://github.com/LPC-HH/HH4b/blob/main/src/HH4b/xsecs.py"
   ]
  },
  {
   "cell_type": "code",
   "execution_count": 3,
   "id": "fd83c4a2-d1d0-43b3-b8a9-af68cb370311",
   "metadata": {},
   "outputs": [],
   "source": [
    "BR_WQQ = 0.676\n",
    "BR_WLNU = 0.324\n",
    "BR_ZQQ = 0.69911\n",
    "BR_ZNUNU = 0.27107\n",
    "BR_ZLL = 0.02982\n",
    "\n",
    "BR_HBB = 0.5809\n",
    "# BR_HBB = 0.5824"
   ]
  },
  {
   "cell_type": "code",
   "execution_count": 4,
   "id": "4b91daea-bb69-4ae2-b86c-c6a409fb9b6e",
   "metadata": {},
   "outputs": [],
   "source": [
    "xsecs = {}\n",
    "\n",
    "# QCD\n",
    "#xsecs[\"QCD_HT-40to70\"] = 311600000.0\n",
    "#xsecs[\"QCD_HT-70to100\"] = 58520000.0\n",
    "xsecs[\"QCD_HT100to200\"] = 25220000.0\n",
    "xsecs[\"QCD_HT200to400\"] = 1963000.0\n",
    "xsecs[\"QCD_HT400to600\"] = 94870.0\n",
    "xsecs[\"QCD_HT600to800\"] = 13420.0\n",
    "xsecs[\"QCD_HT800to1000\"] = 2992.0\n",
    "xsecs[\"QCD_HT1000to1200\"] = 879.1\n",
    "xsecs[\"QCD_HT1200to1500\"] = 384.5\n",
    "xsecs[\"QCD_HT1500to2000\"] = 125.5\n",
    "xsecs[\"QCD_HT2000\"] = 25.78\n",
    "\n",
    "# Top\n",
    "# https://twiki.cern.ch/twiki/bin/view/LHCPhysics/TtbarNNLO\n",
    "# cross check these?\n",
    "# https://cms.cern.ch/iCMS/analysisadmin/cadilines?line=TOP-22-012\n",
    "xsecs[\"TTto4Q\"] = 923.6 * 0.667 * 0.667  # = 410.89  (762.1)\n",
    "xsecs[\"TTto2L2Nu\"] = 923.6 * 0.333 * 0.333  # = 102.41 (96.9)\n",
    "xsecs[\"TTtoLNu2Q\"] = 923.6 * 2 * (0.667 * 0.333)  # = 410.28 (404.0)\n",
    "\n",
    "# Single Top\n",
    "# https://twiki.cern.ch/twiki/bin/view/LHCPhysics/SingleTopNNLORef#Single_top_quark_tW_channel_cros\n",
    "xsecs['TWminus_fullhad'] = 87.9 / 2 * 0.667 * BR_WQQ\n",
    "xsecs['TWminus_fulllep'] = 87.9 / 2 * 0.333 * BR_WLNU\n",
    "xsecs['TWminus_semilep'] = 87.9 / 2 * (0.667 * BR_WQQ + 0.333 * BR_WLNU)\n",
    "xsecs['TbarWplus_fullhad'] = 87.9 / 2 * 0.667 * BR_WQQ\n",
    "xsecs['TbarWplus_fulllep'] = 87.9 / 2 * 0.333 * BR_WLNU\n",
    "xsecs['TbarWplus_semilep'] = 87.9 / 2 * (0.667 * BR_WQQ + 0.333 * BR_WLNU)\n",
    "\n",
    "# https://twiki.cern.ch/twiki/bin/view/LHCPhysics/SingleTopNNLORef#Single_top_t_channel\n",
    "xsecs['TBbar_tchannel'] = 145.0\n",
    "xsecs['TbarB_tchannel'] = 87.2\n",
    "\n",
    "# Diboson\n",
    "xsecs[\"WW\"] = 116.8  #  173.4 (116.8 at NNLO)\n",
    "xsecs[\"WZ\"] = 54.3\n",
    "xsecs[\"ZZ\"] = 16.7\n",
    "\n",
    "# Higgs\n",
    "# SX: took XSDB NLO number (0.5246) and multiplied it by the NNLO/NLO ratio for inclusive ggH from 13 TeV\n",
    "# ggF sample is pT > 200 GeV\n",
    "xsecs[\"GluGlu_Hto2B\"] = 0.5246 * (43.92 / 27.8) * BR_HBB\n",
    "# https://twiki.cern.ch/twiki/bin/view/LHCPhysics/LHCHWG136TeVxsec_extrap\n",
    "xsecs[\"VBF_Hto2B\"] = 4.078 * BR_HBB\n",
    "xsecs[\"WminusH_Hto2B_Wto2Q\"] = 0.8889 * BR_WQQ * BR_HBB\n",
    "xsecs[\"WminusH_Hto2B_WtoLNu\"] = 0.8889 * BR_WLNU * BR_HBB\n",
    "xsecs[\"WplusH_Hto2B_Wto2Q\"] = 0.5677 * BR_WQQ * BR_HBB\n",
    "xsecs[\"WplusH_Hto2B_WtoLNu\"] = 0.5677 * BR_WLNU * BR_HBB\n",
    "xsecs[\"ZH_Hto2B_Zto2L\"] = 0.8079 * BR_ZLL * BR_HBB\n",
    "xsecs[\"ZH_Hto2B_Zto2Q\"] = 0.8079 * BR_ZQQ * BR_HBB\n",
    "xsecs[\"ZH_Hto2B_Zto2Nu\"] = 0.8079 * BR_ZNUNU * BR_HBB\n",
    "xsecs[\"ggZH_Hto2B_Zto2L\"] = 0.1360 * BR_ZLL * BR_HBB\n",
    "xsecs[\"ggZH_Hto2B_Zto2Nu\"] = 0.1360 * BR_ZNUNU * BR_HBB\n",
    "xsecs[\"ggZH_Hto2B_Zto2Q\"] = 0.1360 * BR_ZQQ * BR_HBB\n",
    "xsecs[\"ttH_Hto2B\"] = 0.5700 * BR_HBB\n",
    "\n",
    "# V+Jets\n",
    "xsecs[\"Wto2Q_HT200to400\"] = 2723.0\n",
    "xsecs[\"Wto2Q_HT400to600\"] = 299.8\n",
    "xsecs[\"Wto2Q_HT600to800\"] = 63.9\n",
    "xsecs[\"Wto2Q_HT800\"] = 31.9\n",
    "xsecs[\"Zto2Q_HT200to400\"] = 1082.0\n",
    "xsecs[\"Zto2Q_HT400to600\"] = 124.1\n",
    "xsecs[\"Zto2Q_HT600to800\"] = 27.28\n",
    "xsecs[\"Zto2Q_HT800\"] = 14.57\n",
    "\n",
    "xsecs[\"WtoLNu\"] = 55390.0\n",
    "xsecs[\"DYJets\"] = 0"
   ]
  },
  {
   "cell_type": "code",
   "execution_count": 5,
   "id": "4e5807ec-d81a-4276-8ee9-a105268c0cf2",
   "metadata": {},
   "outputs": [
    {
     "name": "stdout",
     "output_type": "stream",
     "text": [
      "Done\n"
     ]
    }
   ],
   "source": [
    "with open('xsec.json', 'w') as outfile:\n",
    "    json.dump(xsecs, outfile, indent=4)\n",
    "print(\"Done\")"
   ]
  }
 ],
 "metadata": {
  "kernelspec": {
   "display_name": "Python 3 (ipykernel)",
   "language": "python",
   "name": "python3"
  },
  "language_info": {
   "codemirror_mode": {
    "name": "ipython",
    "version": 3
   },
   "file_extension": ".py",
   "mimetype": "text/x-python",
   "name": "python",
   "nbconvert_exporter": "python",
   "pygments_lexer": "ipython3",
   "version": "3.12.2"
  }
 },
 "nbformat": 4,
 "nbformat_minor": 5
}
