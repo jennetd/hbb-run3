{
 "cells": [
  {
   "cell_type": "code",
   "execution_count": 1,
   "id": "176b048a",
   "metadata": {},
   "outputs": [],
   "source": [
    "import awkward as ak\n",
    "import uproot\n",
    "import numpy as np\n",
    "from coffea.nanoevents import NanoEventsFactory, PFNanoAODSchema\n",
    "\n",
    "import matplotlib.pyplot as plt\n",
    "import matplotlib.colors as colors\n",
    "import mplhep as hep\n",
    "plt.style.use(hep.style.ROOT)\n",
    "\n",
    "import matplotlib.pylab as pylab\n",
    "params = {'legend.fontsize': 'medium',\n",
    "         'axes.labelsize': 'x-large',\n",
    "         'axes.titlesize':'x-large',\n",
    "         'xtick.labelsize':'medium',\n",
    "         'ytick.labelsize':'medium'}\n",
    "pylab.rcParams.update(params)\n",
    "\n",
    "#line thickness\n",
    "import matplotlib as mpl\n",
    "mpl.rcParams['lines.linewidth'] = 5"
   ]
  },
  {
   "cell_type": "code",
   "execution_count": 2,
   "id": "174d8b77",
   "metadata": {},
   "outputs": [],
   "source": [
    "# a file containing 2018 ggF simulation\n",
    "sample = \"/uscms/home/jennetd/nobackup/hbb-prod-modes/run3-triggers/data-mc/ggF.root\""
   ]
  },
  {
   "cell_type": "code",
   "execution_count": 3,
   "id": "acc6bcd0",
   "metadata": {},
   "outputs": [
    {
     "name": "stderr",
     "output_type": "stream",
     "text": [
      "/uscms/home/jennetd/nobackup/miniconda3/envs/fastjet/lib/python3.12/site-packages/coffea/nanoevents/mapping/uproot.py:128: UserWarning: Found duplicate branch FatJetAK15SubJet_nBHadrons in <TTree 'Events' (1912 branches) at 0x7f63cd23da90>, taking first instance\n",
      "  warnings.warn(\n",
      "/uscms/home/jennetd/nobackup/miniconda3/envs/fastjet/lib/python3.12/site-packages/coffea/nanoevents/mapping/uproot.py:128: UserWarning: Found duplicate branch FatJetAK15SubJet_nCHadrons in <TTree 'Events' (1912 branches) at 0x7f63cd23da90>, taking first instance\n",
      "  warnings.warn(\n",
      "/uscms/home/jennetd/nobackup/miniconda3/envs/fastjet/lib/python3.12/site-packages/coffea/nanoevents/mapping/uproot.py:128: UserWarning: Found duplicate branch FatJetAK15_nBHadrons in <TTree 'Events' (1912 branches) at 0x7f63cd23da90>, taking first instance\n",
      "  warnings.warn(\n",
      "/uscms/home/jennetd/nobackup/miniconda3/envs/fastjet/lib/python3.12/site-packages/coffea/nanoevents/mapping/uproot.py:128: UserWarning: Found duplicate branch FatJetAK15_nCHadrons in <TTree 'Events' (1912 branches) at 0x7f63cd23da90>, taking first instance\n",
      "  warnings.warn(\n",
      "/uscms/home/jennetd/nobackup/miniconda3/envs/fastjet/lib/python3.12/site-packages/coffea/nanoevents/mapping/uproot.py:128: UserWarning: Found duplicate branch FatJet_btagDDBvLV2 in <TTree 'Events' (1912 branches) at 0x7f63cd23da90>, taking first instance\n",
      "  warnings.warn(\n",
      "/uscms/home/jennetd/nobackup/miniconda3/envs/fastjet/lib/python3.12/site-packages/coffea/nanoevents/mapping/uproot.py:128: UserWarning: Found duplicate branch FatJet_btagDDCvBV2 in <TTree 'Events' (1912 branches) at 0x7f63cd23da90>, taking first instance\n",
      "  warnings.warn(\n",
      "/uscms/home/jennetd/nobackup/miniconda3/envs/fastjet/lib/python3.12/site-packages/coffea/nanoevents/mapping/uproot.py:128: UserWarning: Found duplicate branch FatJet_btagDDCvLV2 in <TTree 'Events' (1912 branches) at 0x7f63cd23da90>, taking first instance\n",
      "  warnings.warn(\n",
      "/uscms/home/jennetd/nobackup/miniconda3/envs/fastjet/lib/python3.12/site-packages/coffea/nanoevents/mapping/uproot.py:128: UserWarning: Found duplicate branch FatJet_nBHadrons in <TTree 'Events' (1912 branches) at 0x7f63cd23da90>, taking first instance\n",
      "  warnings.warn(\n",
      "/uscms/home/jennetd/nobackup/miniconda3/envs/fastjet/lib/python3.12/site-packages/coffea/nanoevents/mapping/uproot.py:128: UserWarning: Found duplicate branch FatJet_nCHadrons in <TTree 'Events' (1912 branches) at 0x7f63cd23da90>, taking first instance\n",
      "  warnings.warn(\n",
      "/uscms/home/jennetd/nobackup/miniconda3/envs/fastjet/lib/python3.12/site-packages/coffea/nanoevents/mapping/uproot.py:128: UserWarning: Found duplicate branch SubJet_nBHadrons in <TTree 'Events' (1912 branches) at 0x7f63cd23da90>, taking first instance\n",
      "  warnings.warn(\n",
      "/uscms/home/jennetd/nobackup/miniconda3/envs/fastjet/lib/python3.12/site-packages/coffea/nanoevents/mapping/uproot.py:128: UserWarning: Found duplicate branch SubJet_nCHadrons in <TTree 'Events' (1912 branches) at 0x7f63cd23da90>, taking first instance\n",
      "  warnings.warn(\n",
      "/uscms/home/jennetd/nobackup/miniconda3/envs/fastjet/lib/python3.12/site-packages/coffea/nanoevents/schemas/nanoaod.py:243: RuntimeWarning: Missing cross-reference index for GenFatJetCands_jetIdx => GenJetAK8\n",
      "  warnings.warn(\n",
      "/uscms/home/jennetd/nobackup/miniconda3/envs/fastjet/lib/python3.12/site-packages/coffea/nanoevents/schemas/nanoaod.py:243: RuntimeWarning: Missing cross-reference index for GenFatJetCands_pFCandsIdx => GenCands\n",
      "  warnings.warn(\n",
      "/uscms/home/jennetd/nobackup/miniconda3/envs/fastjet/lib/python3.12/site-packages/coffea/nanoevents/schemas/nanoaod.py:243: RuntimeWarning: Missing cross-reference index for GenFatJetSVs_jetIdx => GenJetAK8\n",
      "  warnings.warn(\n",
      "/uscms/home/jennetd/nobackup/miniconda3/envs/fastjet/lib/python3.12/site-packages/coffea/nanoevents/schemas/nanoaod.py:243: RuntimeWarning: Missing cross-reference index for GenFatJetSVs_sVIdx => SV\n",
      "  warnings.warn(\n",
      "/uscms/home/jennetd/nobackup/miniconda3/envs/fastjet/lib/python3.12/site-packages/coffea/nanoevents/schemas/nanoaod.py:243: RuntimeWarning: Missing cross-reference index for GenJetCands_jetIdx => GenJet\n",
      "  warnings.warn(\n",
      "/uscms/home/jennetd/nobackup/miniconda3/envs/fastjet/lib/python3.12/site-packages/coffea/nanoevents/schemas/nanoaod.py:243: RuntimeWarning: Missing cross-reference index for GenJetCands_pFCandsIdx => GenCands\n",
      "  warnings.warn(\n",
      "/uscms/home/jennetd/nobackup/miniconda3/envs/fastjet/lib/python3.12/site-packages/coffea/nanoevents/schemas/nanoaod.py:243: RuntimeWarning: Missing cross-reference index for GenJetSVs_jetIdx => GenJet\n",
      "  warnings.warn(\n",
      "/uscms/home/jennetd/nobackup/miniconda3/envs/fastjet/lib/python3.12/site-packages/coffea/nanoevents/schemas/nanoaod.py:243: RuntimeWarning: Missing cross-reference index for GenJetSVs_sVIdx => SV\n",
      "  warnings.warn(\n",
      "/uscms/home/jennetd/nobackup/miniconda3/envs/fastjet/lib/python3.12/site-packages/coffea/nanoevents/schemas/nanoaod.py:243: RuntimeWarning: Missing cross-reference index for JetPFCands_jetIdx => Jet\n",
      "  warnings.warn(\n",
      "/uscms/home/jennetd/nobackup/miniconda3/envs/fastjet/lib/python3.12/site-packages/coffea/nanoevents/schemas/nanoaod.py:243: RuntimeWarning: Missing cross-reference index for JetPFCands_pFCandsIdx => PFCands\n",
      "  warnings.warn(\n",
      "/uscms/home/jennetd/nobackup/miniconda3/envs/fastjet/lib/python3.12/site-packages/coffea/nanoevents/schemas/nanoaod.py:243: RuntimeWarning: Missing cross-reference index for JetSVs_jetIdx => Jet\n",
      "  warnings.warn(\n",
      "/uscms/home/jennetd/nobackup/miniconda3/envs/fastjet/lib/python3.12/site-packages/coffea/nanoevents/schemas/nanoaod.py:243: RuntimeWarning: Missing cross-reference index for JetSVs_sVIdx => SV\n",
      "  warnings.warn(\n",
      "/uscms/home/jennetd/nobackup/miniconda3/envs/fastjet/lib/python3.12/site-packages/coffea/nanoevents/methods/candidate.py:11: FutureWarning: In version 2024.7.0 (target date: 2024-06-30 11:59:59-05:00), this will be an error.\n",
      "To raise these warnings as errors (and get stack traces to find out where they're called), run\n",
      "    import warnings\n",
      "    warnings.filterwarnings(\"error\", module=\"coffea.*\")\n",
      "after the first `import coffea` or use `@pytest.mark.filterwarnings(\"error:::coffea.*\")` in pytest.\n",
      "Issue: coffea.nanoevents.methods.vector will be removed and replaced with scikit-hep vector. Nanoevents schemas internal to coffea will be migrated. Otherwise please consider using that package!.\n",
      "  from coffea.nanoevents.methods import vector\n"
     ]
    }
   ],
   "source": [
    "events = NanoEventsFactory.from_root(\n",
    "    {sample: \"/Events\"},\n",
    "    delayed=False,\n",
    "    schemaclass=PFNanoAODSchema,\n",
    ").events()"
   ]
  },
  {
   "cell_type": "code",
   "execution_count": 4,
   "id": "4b835073-61a1-4a95-bc05-59d37298f8f4",
   "metadata": {},
   "outputs": [],
   "source": [
    "fatjets = events.FatJet\n",
    "\n",
    "candidatejet = fatjets[(fatjets.pt > 450)\n",
    "                       & (abs(fatjets.eta) < 2.5)\n",
    "                       & fatjets.isTight\n",
    "                      ]\n",
    "\n",
    "leadingjets = candidatejet[:, 0:2]"
   ]
  },
  {
   "cell_type": "code",
   "execution_count": 23,
   "id": "899dd087-6a49-46a6-bd1c-fb66b80e386b",
   "metadata": {},
   "outputs": [
    {
     "data": {
      "text/plain": [
       "883"
      ]
     },
     "execution_count": 23,
     "metadata": {},
     "output_type": "execute_result"
    }
   ],
   "source": [
    "len(ak.flatten(leadingjets))"
   ]
  },
  {
   "cell_type": "code",
   "execution_count": 7,
   "id": "2388fa34-baff-4eef-8d79-62dd2383ad33",
   "metadata": {},
   "outputs": [],
   "source": [
    "import fastjet"
   ]
  },
  {
   "cell_type": "code",
   "execution_count": 13,
   "id": "497ed901-122b-4241-aeb3-f021987ea066",
   "metadata": {},
   "outputs": [],
   "source": [
    "jetdef = fastjet.JetDefinition(\n",
    "        fastjet.cambridge_algorithm, 0.8\n",
    "    )\n",
    "pf = ak.flatten(leadingjets.constituents.pf, axis=1)\n",
    "cluster = fastjet.ClusterSequence(pf, jetdef)\n",
    "softdrop_zcut10_beta0 = cluster.exclusive_jets_softdrop_grooming()"
   ]
  },
  {
   "cell_type": "code",
   "execution_count": 12,
   "id": "09ae407a-ccbd-4d6b-8edf-0a00b65450ab",
   "metadata": {},
   "outputs": [
    {
     "data": {
      "text/html": [
       "<pre>[{constituents: [{px: -2.95, ...}, ...], msoftdrop: 18.3, ptsoftdrop: 410, ...},\n",
       " {constituents: [{px: 0.76, ...}, ..., {...}], msoftdrop: 101, ...},\n",
       " {constituents: [{px: 1.01, ...}, ..., {...}], msoftdrop: 183, ...},\n",
       " {constituents: [{px: 3.65, ...}, ..., {...}], msoftdrop: 8.86, ...},\n",
       " {constituents: [{px: -33.6, ...}, ...], msoftdrop: 4.18, ptsoftdrop: 365, ...},\n",
       " {constituents: [{px: 32.4, ...}, ..., {...}], msoftdrop: 4.91, ...},\n",
       " {constituents: [{px: 4.69, ...}, ..., {...}], msoftdrop: 129, ...},\n",
       " {constituents: [{px: 212, ...}, ..., {...}], msoftdrop: 0.859, ...},\n",
       " {constituents: [{px: -0.76, ...}, ...], msoftdrop: 103, ptsoftdrop: 400, ...},\n",
       " {constituents: [{px: 179, ...}, ..., {...}], msoftdrop: 10.6, ...},\n",
       " ...,\n",
       " {constituents: [{px: 22.4, ...}, ..., {...}], msoftdrop: 6.3, ...},\n",
       " {constituents: [{px: -0.54, ...}, ...], msoftdrop: 77.8, ptsoftdrop: 433, ...},\n",
       " {constituents: [{px: 2.37, ...}, ..., {...}], msoftdrop: 130, ...},\n",
       " {constituents: [{px: -45.5, ...}, ...], msoftdrop: 4.09, ptsoftdrop: 417, ...},\n",
       " {constituents: [{px: -74.6, ...}, ...], msoftdrop: 21.8, ptsoftdrop: 415, ...},\n",
       " {constituents: [{px: 9.24, ...}, ..., {...}], msoftdrop: 11.9, ...},\n",
       " {constituents: [{px: -18.6, ...}, ...], msoftdrop: 4.84, ptsoftdrop: 380, ...},\n",
       " {constituents: [{px: 0.564, ...}, ...], msoftdrop: 119, ptsoftdrop: 464, ...},\n",
       " {constituents: [{px: -0.785, ...}, ...], msoftdrop: 31.1, ...}]\n",
       "--------------------------------------------------------------------------------\n",
       "type: 883 * {\n",
       "    constituents: var * {\n",
       "        px: float64,\n",
       "        py: float64,\n",
       "        pz: float64,\n",
       "        E: float64\n",
       "    },\n",
       "    msoftdrop: float64,\n",
       "    ptsoftdrop: float64,\n",
       "    etasoftdrop: float64,\n",
       "    phisoftdrop: float64,\n",
       "    Esoftdrop: float64,\n",
       "    pzsoftdrop: float64\n",
       "}</pre>"
      ],
      "text/plain": [
       "<Array [{constituents: [...], ...}, ..., {...}] type='883 * {constituents: ...'>"
      ]
     },
     "execution_count": 12,
     "metadata": {},
     "output_type": "execute_result"
    }
   ],
   "source": [
    "softdrop_zcut10_beta0"
   ]
  },
  {
   "cell_type": "code",
   "execution_count": 25,
   "id": "316559c9-e30d-4e01-a027-2e8522580edd",
   "metadata": {},
   "outputs": [
    {
     "data": {
      "text/plain": [
       "<matplotlib.legend.Legend at 0x7f63abaf2420>"
      ]
     },
     "execution_count": 25,
     "metadata": {},
     "output_type": "execute_result"
    },
    {
     "data": {
      "image/png": "[encoded data removed]",
      "text/plain": [
       "<Figure size 1000x1000 with 1 Axes>"
      ]
     },
     "metadata": {},
     "output_type": "display_data"
    }
   ],
   "source": [
    "bins=np.linspace(0,300,30)\n",
    "plt.hist(ak.flatten(leadingjets.msoftdrop),histtype='step',bins=bins,label='default');\n",
    "plt.hist(softdrop_zcut10_beta0.msoftdrop,histtype='step',bins=bins,label='recalculated');\n",
    "plt.legend(frameon=False)\n",
    "plt.xlabel('soft drop mass')\n",
    "plt.legend()"
   ]
  },
  {
   "cell_type": "code",
   "execution_count": null,
   "id": "e0752016-47c3-49a2-a490-acf0608abcc7",
   "metadata": {},
   "outputs": [],
   "source": [
    "leadingjets.constituents.pFCandsIdx"
   ]
  },
  {
   "cell_type": "code",
   "execution_count": null,
   "id": "043b2ca5-92bb-4fdf-8b26-aa07c669b538",
   "metadata": {},
   "outputs": [],
   "source": [
    "softdrop_zcut10_beta1 = cluster.exclusive_jets_softdrop_grooming(beta=1)"
   ]
  },
  {
   "cell_type": "code",
   "execution_count": null,
   "id": "4e0a07a9",
   "metadata": {},
   "outputs": [],
   "source": [
    "def check_not_none(a):\n",
    "    print(len(a[~ak.is_none(a)]))\n",
    "    \n",
    "def return_not_none(a):\n",
    "    return a[~ak.is_none(a)]"
   ]
  },
  {
   "cell_type": "code",
   "execution_count": null,
   "id": "460cbf35",
   "metadata": {},
   "outputs": [],
   "source": [
    "fatjets = events.FatJet\n",
    "\n",
    "candidatejet = fatjets[(fatjets.pt > 200)\n",
    "                       & (abs(fatjets.eta) < 2.5)\n",
    "                       & fatjets.isTight\n",
    "                      ]\n",
    "\n",
    "leadingjets = candidatejet[:, 0:2]\n",
    "            "
   ]
  },
  {
   "cell_type": "code",
   "execution_count": null,
   "id": "ef922d1e",
   "metadata": {},
   "outputs": [],
   "source": [
    "particleNetMD_Xbb = leadingjets.particleNetMD_Xbb\n",
    "particleNetMD_Xcc = leadingjets.particleNetMD_Xcc\n",
    "particleNetMD_Xqq = leadingjets.particleNetMD_Xqq\n",
    "particleNetMD_QCD = leadingjets.particleNetMD_QCD\n",
    "\n",
    "# ascending = true                                                                                                                                \n",
    "indices = ak.argsort(particleNetMD_Xbb,axis=1)\n",
    "\n",
    "# candidate jet is more b-like (lower CvB score)                                                                                                           \n",
    "candidatejet = return_not_none(ak.firsts(leadingjets[indices[:, 1:2]]))\n",
    "            \n",
    "# second jet is more charm-like (larger CvB score)                                                                                                           \n",
    "secondjet = return_not_none(ak.firsts(leadingjets[indices[:, 0:1]]))"
   ]
  },
  {
   "cell_type": "code",
   "execution_count": null,
   "id": "b50ffb7c",
   "metadata": {},
   "outputs": [],
   "source": [
    "ddcvb = leadingjets.btagDDCvBV2\n",
    "\n",
    "# ascending = true                                                                                                                                \n",
    "indices = ak.argsort(ddcvb,axis=1)\n",
    "\n",
    "# candidate jet is more b-like (lower CvB score)                                                                                                           \n",
    "candidatejet_old = ak.firsts(leadingjets[indices[:, 1:2]])\n",
    "            \n",
    "# second jet is more charm-like (larger CvB score)                                                                                                           \n",
    "secondjet_old = ak.firsts(leadingjets[indices[:, 0:1]])"
   ]
  },
  {
   "cell_type": "code",
   "execution_count": null,
   "id": "c20c1396",
   "metadata": {},
   "outputs": [],
   "source": [
    "bins=np.linspace(0,1,11)"
   ]
  },
  {
   "cell_type": "code",
   "execution_count": null,
   "id": "29794efb",
   "metadata": {},
   "outputs": [],
   "source": [
    "particleNetMD_Xbb = candidatejet.particleNetMD_Xbb\n",
    "particleNetMD_Xcc = candidatejet.particleNetMD_Xcc\n",
    "particleNetMD_Xqq = candidatejet.particleNetMD_Xqq\n",
    "particleNetMD_QCD = candidatejet.particleNetMD_QCD\n",
    "\n",
    "plt.hist(particleNetMD_Xbb,histtype='step',bins=bins,label='Xbb');\n",
    "plt.hist(particleNetMD_Xcc,histtype='step',bins=bins,label='Xcc');\n",
    "plt.hist(particleNetMD_Xqq,histtype='step',bins=bins,label='Xqq');\n",
    "plt.hist(particleNetMD_QCD,histtype='step',bins=bins,label='QCD');\n",
    "plt.legend(frameon=False)\n",
    "plt.xlabel('particleNetMD')"
   ]
  },
  {
   "cell_type": "code",
   "execution_count": null,
   "id": "80ba9540",
   "metadata": {},
   "outputs": [],
   "source": [
    "plt.hist(particleNetMD_Xbb / (1 - particleNetMD_Xcc - particleNetMD_Xqq),histtype='step',bins=bins,label='Xbb');\n",
    "plt.hist(particleNetMD_Xcc / (1 - particleNetMD_Xbb - particleNetMD_Xqq),histtype='step',bins=bins,label='Xcc');\n",
    "plt.hist(particleNetMD_Xqq / (1 - particleNetMD_Xbb - particleNetMD_Xcc),histtype='step',bins=bins,label='Xqq');\n",
    "#plt.hist(particleNetMD_QCD / (particleNetMD_Xbb + particleNetMD_QCD + particleNetMD_Xcc + particleNetMD_Xqq),histtype='step',bins=bins,label='QCD');\n",
    "plt.legend(frameon=False)\n",
    "plt.xlabel('Transformed particleNetMD')"
   ]
  },
  {
   "cell_type": "code",
   "execution_count": null,
   "id": "cb55f1c9",
   "metadata": {},
   "outputs": [],
   "source": [
    "plt.hist(candidatejet.particleNet_WvsQCD,histtype='step',bins=bins,label='WvsQCD');\n",
    "plt.hist(candidatejet.particleNet_ZvsQCD,histtype='step',bins=bins,label='ZvsQCD');\n",
    "plt.legend(frameon=False)\n",
    "plt.xlabel('particleNet')"
   ]
  },
  {
   "cell_type": "code",
   "execution_count": null,
   "id": "6cd77367",
   "metadata": {},
   "outputs": [],
   "source": [
    "particleNetMD_Xbb = secondjet.particleNetMD_Xbb\n",
    "particleNetMD_Xcc = secondjet.particleNetMD_Xcc\n",
    "particleNetMD_Xqq = secondjet.particleNetMD_Xqq\n",
    "particleNetMD_QCD = secondjet.particleNetMD_QCD\n",
    "\n",
    "plt.hist(particleNetMD_Xbb,histtype='step',bins=bins,label='Xbb');\n",
    "plt.hist(particleNetMD_Xcc,histtype='step',bins=bins,label='Xcc');\n",
    "plt.hist(particleNetMD_Xqq,histtype='step',bins=bins,label='Xqq');\n",
    "plt.hist(particleNetMD_QCD,histtype='step',bins=bins,label='QCD');\n",
    "plt.legend(frameon=False)\n",
    "plt.xlabel('particleNetMD')"
   ]
  },
  {
   "cell_type": "code",
   "execution_count": null,
   "id": "405c2c03",
   "metadata": {},
   "outputs": [],
   "source": [
    "check_not_none(particleNetMD_Xbb / (1 - particleNetMD_Xcc - particleNetMD_Xqq))\n",
    "check_not_none(particleNetMD_Xcc / (1 - particleNetMD_Xbb - particleNetMD_Xqq))\n",
    "check_not_none(particleNetMD_Xqq / (1 - particleNetMD_Xbb - particleNetMD_Xcc))\n",
    "\n",
    "plt.hist(particleNetMD_Xbb / (1 - particleNetMD_Xcc - particleNetMD_Xqq),histtype='step',bins=bins,label='Xbb');\n",
    "plt.hist(particleNetMD_Xcc / (1 - particleNetMD_Xbb - particleNetMD_Xqq),histtype='step',bins=bins,label='Xcc');\n",
    "plt.hist(particleNetMD_Xqq / (1 - particleNetMD_Xbb - particleNetMD_Xcc),histtype='step',bins=bins,label='Xqq');\n",
    "#plt.hist(particleNetMD_QCD / (particleNetMD_Xbb + particleNetMD_QCD + particleNetMD_Xcc + particleNetMD_Xqq),histtype='step',bins=bins,label='QCD');\n",
    "plt.legend(frameon=False)\n",
    "plt.xlabel('Transformed particleNetMD')"
   ]
  },
  {
   "cell_type": "code",
   "execution_count": null,
   "id": "a5856d57",
   "metadata": {},
   "outputs": [],
   "source": [
    "plt.hist(secondjet.particleNet_WvsQCD,histtype='step',bins=bins,label='WvsQCD');\n",
    "plt.hist(secondjet.particleNet_ZvsQCD,histtype='step',bins=bins,label='ZvsQCD');\n",
    "plt.legend(frameon=False)\n",
    "plt.xlabel('particleNet')"
   ]
  },
  {
   "cell_type": "code",
   "execution_count": null,
   "id": "46a5cb76",
   "metadata": {},
   "outputs": [],
   "source": [
    "candidatejet_diff = return_not_none(candidatejet.pt) - return_not_none(candidatejet_old.pt)\n",
    "plt.hist(candidatejet_diff)"
   ]
  },
  {
   "cell_type": "code",
   "execution_count": null,
   "id": "3a7a395d",
   "metadata": {},
   "outputs": [],
   "source": [
    "secondjet_diff = return_not_none(secondjet.pt) - return_not_none(secondjet_old.pt)\n",
    "plt.hist(secondjet_diff)"
   ]
  },
  {
   "cell_type": "code",
   "execution_count": 15,
   "id": "b7f1276c",
   "metadata": {},
   "outputs": [
    {
     "data": {
      "text/plain": [
       "'3.4.1.3'"
      ]
     },
     "execution_count": 15,
     "metadata": {},
     "output_type": "execute_result"
    }
   ],
   "source": [
    "fastjet.__version__"
   ]
  },
  {
   "cell_type": "code",
   "execution_count": 17,
   "id": "503ce94d-db7c-4343-8ce5-1d8f3afe1ec1",
   "metadata": {},
   "outputs": [
    {
     "data": {
      "text/plain": [
       "'2.6.4'"
      ]
     },
     "execution_count": 17,
     "metadata": {},
     "output_type": "execute_result"
    }
   ],
   "source": [
    "ak.__version__"
   ]
  },
  {
   "cell_type": "code",
   "execution_count": 19,
   "id": "d5898845-fdbc-449e-87cf-86b3f87de648",
   "metadata": {},
   "outputs": [
    {
     "data": {
      "text/plain": [
       "'2024.5.0'"
      ]
     },
     "execution_count": 19,
     "metadata": {},
     "output_type": "execute_result"
    }
   ],
   "source": [
    "import coffea\n",
    "coffea.__version__"
   ]
  },
  {
   "cell_type": "code",
   "execution_count": null,
   "id": "62bed963-e1bd-4c25-b254-acfe71a2be10",
   "metadata": {},
   "outputs": [],
   "source": []
  }
 ],
 "metadata": {
  "kernelspec": {
   "display_name": "Python 3 (ipykernel)",
   "language": "python",
   "name": "python3"
  },
  "language_info": {
   "codemirror_mode": {
    "name": "ipython",
    "version": 3
   },
   "file_extension": ".py",
   "mimetype": "text/x-python",
   "name": "python",
   "nbconvert_exporter": "python",
   "pygments_lexer": "ipython3",
   "version": "3.12.3"
  }
 },
 "nbformat": 4,
 "nbformat_minor": 5
}
